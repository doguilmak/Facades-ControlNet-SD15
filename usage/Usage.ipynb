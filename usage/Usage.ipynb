{
  "nbformat": 4,
  "nbformat_minor": 0,
  "metadata": {
    "colab": {
      "provenance": [],
      "gpuType": "L4"
    },
    "kernelspec": {
      "name": "python3",
      "display_name": "Python 3"
    },
    "language_info": {
      "name": "python"
    },
    "accelerator": "GPU"
  },
  "cells": [
    {
      "cell_type": "markdown",
      "source": [
        "<p align=\"center\">\n",
        "    <img src=\"https://raw.githubusercontent.com/doguilmak/Facades-ControlNet-SD15/refs/heads/main/assets/cover.png\" alt=\"Facades GAN\">\n",
        "</p>"
      ],
      "metadata": {
        "id": "XRut3irUDshR"
      }
    },
    {
      "cell_type": "markdown",
      "source": [
        "# **Introduction**\n",
        "\n",
        "This notebook presents a complete and practical pipeline for controlled image generation using **Stable Diffusion** enhanced with **ControlNet**, specifically tailored for architectural **facade synthesis**. Our workflow enables precise generation of building exteriors guided by **semantic segmentation maps**.\n",
        "\n",
        "We cover the following key components:\n",
        "\n",
        "* **Data Preparation**: Loading and preprocessing paired images and segmentation masks from the [Facades dataset](https://www.kaggle.com/datasets/balraj98/facades-dataset), with consistent 512×512 resolution for training.\n",
        "\n",
        "* **Model Configuration**: Leveraging the pretrained `lllyasviel/sd-controlnet-seg` model, we embed ControlNet into a Stable Diffusion pipeline to condition the generation process on structural layouts of facades.\n",
        "\n",
        "* **Training Loop**: Fine-tuning only the ControlNet adapter layers while freezing the base Stable Diffusion weights. The model is optimized with Mean Squared Error (MSE) loss over 30 epochs using cosine learning rate scheduling.\n",
        "\n",
        "* **Sampling & Inference**: Producing high-quality, photorealistic building facades from segmentation maps using 50 inference steps, a guidance scale of 9, and consistent architectural detailing.\n",
        "\n",
        "\n",
        "By the end of this notebook, you’ll have a fully trained ControlNet pipeline capable of transforming facade segmentation maps into coherent, detailed architectural visuals — ideal for generative design, urban planning, and architectural visualization. Let’s dive in!\n"
      ],
      "metadata": {
        "id": "GZ89qr21buzQ"
      }
    },
    {
      "cell_type": "markdown",
      "source": [
        "Make sure your runtime is **GPU** (_not_ CPU or TPU). And if it is an option, make sure you are using _Python 3_. You can select these settings by going to `Runtime -> Change runtime type -> Select the above mentioned settings and then press SAVE`.\n"
      ],
      "metadata": {
        "id": "NfkCuiinYYx6"
      }
    },
    {
      "cell_type": "code",
      "source": [
        "!nvidia-smi"
      ],
      "metadata": {
        "id": "fziO-FOVYlsk"
      },
      "execution_count": null,
      "outputs": []
    },
    {
      "cell_type": "markdown",
      "source": [
        "## **0. Initial Steps**"
      ],
      "metadata": {
        "id": "MQBkGjtvb8RW"
      }
    },
    {
      "cell_type": "markdown",
      "source": [
        "This step may took more that a minute."
      ],
      "metadata": {
        "id": "5Qu26yi-2ZHF"
      }
    },
    {
      "cell_type": "code",
      "execution_count": null,
      "metadata": {
        "id": "G3jMIvXBQ_ta"
      },
      "outputs": [],
      "source": [
        "!git clone https://huggingface.co/doguilmak/facade-controlnet-sd15"
      ]
    },
    {
      "cell_type": "code",
      "source": [
        "from PIL import Image\n",
        "import torch\n",
        "from diffusers import StableDiffusionControlNetPipeline\n",
        "import matplotlib.pyplot as plt"
      ],
      "metadata": {
        "id": "9Cc8sPYyRnCP"
      },
      "execution_count": null,
      "outputs": []
    },
    {
      "cell_type": "markdown",
      "source": [
        "## **1. Loading the Pipeline**"
      ],
      "metadata": {
        "id": "JJDdPXLycBwn"
      }
    },
    {
      "cell_type": "markdown",
      "source": [
        "When running the following code, we are loading a **Stable Diffusion pipeline with ControlNet** from a **local directory** (`/content/facade-controlnet-sd15/full_pipeline`). This model is conditioned on input segmentation masks to guide image generation based on text prompts.\n",
        "\n",
        "* Setting `safety_checker=None` disables the built-in NSFW content filter, often used in domain-specific or custom deployments.\n",
        "* `torch_dtype=torch.float32` ensures inference runs in standard precision, improving compatibility across devices at the expense of speed.\n",
        "\n",
        "Next, the following device assignment line:\n",
        "\n",
        "```python\n",
        "device = torch.device(\"cuda\" if torch.cuda.is_available() else \"cpu\")\n",
        "```\n",
        "\n",
        "dynamically chooses GPU or CPU depending on hardware availability. The final call:\n",
        "\n",
        "```python\n",
        "pipeline.to(device)\n",
        "```\n",
        "\n",
        "moves the entire pipeline—including ControlNet, UNet, VAE, and tokenizer components—to the designated device for accelerated inference.\n",
        "\n",
        "This setup ensures a fully operational, efficient inference pipeline for producing realistic building facades from semantic inputs."
      ],
      "metadata": {
        "id": "4oGULQFaVb72"
      }
    },
    {
      "cell_type": "code",
      "source": [
        "pipeline = StableDiffusionControlNetPipeline.from_pretrained(\n",
        "    \"/content/facade-controlnet-sd15/full_pipeline\",\n",
        "    safety_checker=None,\n",
        "    torch_dtype=torch.float32,\n",
        ")\n",
        "\n",
        "device = torch.device(\"cuda\" if torch.cuda.is_available() else \"cpu\")\n",
        "pipeline.to(device)"
      ],
      "metadata": {
        "id": "pJa9Yy42Vf4g"
      },
      "execution_count": null,
      "outputs": []
    },
    {
      "cell_type": "markdown",
      "source": [
        "In PyTorch, calling `.eval()` on a model disables certain behaviors that are only needed during training, such as:\n",
        "- **Dropout layers**: These are turned off, so they don't randomly zero out activations.\n",
        "- **BatchNorm layers**: They use learned statistics (mean/variance) instead of computing them from the batch.\n",
        "\n",
        "Setting the model to evaluation mode ensures **deterministic and stable inference**, which is especially important when generating images. It also slightly improves performance and avoids subtle bugs that can happen if models remain in training mode during inference.\n",
        "\n",
        "<br>\n",
        "\n",
        "**Note: If you're using other submodules (like a `text_encoder` or `safety_checker`), you may also want to set those to `.eval()` if they are in use.**\n",
        "\n"
      ],
      "metadata": {
        "id": "EGjKaZAcUzbn"
      }
    },
    {
      "cell_type": "code",
      "source": [
        "pipeline.controlnet.eval()\n",
        "pipeline.unet.eval()\n",
        "pipeline.vae.eval()"
      ],
      "metadata": {
        "id": "KjGDqBPCRsFf"
      },
      "execution_count": null,
      "outputs": []
    },
    {
      "cell_type": "markdown",
      "source": [
        "- `prompt`: The **positive text prompt** describing what you want to generate (e.g., a high-quality facades).\n",
        "- `neg_prompt`: The **negative prompt** helps steer the model **away** from undesired traits like blurriness or poor detail.\n",
        "- `num_steps`: Controls the number of diffusion steps — more steps can improve image quality but take more time.\n",
        "- `guidance`: Controls how strongly the model follows your text prompt. Values between **7 and 12** are common.\n",
        "\n",
        "You can pass this `config` dictionary into your generation function or pipeline call."
      ],
      "metadata": {
        "id": "hSXSD_OgV83l"
      }
    },
    {
      "cell_type": "markdown",
      "source": [
        "## **2. Generate Images Using Fine-tuned Model**"
      ],
      "metadata": {
        "id": "mlgqQCIlF1Yk"
      }
    },
    {
      "cell_type": "code",
      "source": [
        "PROMPT = 'A flat, front-facing image of an urban building facade, with clearly defined windows, doors, balconies, and architectural elements, minimal background, vector-style rendering, highly detailed, clean lines, HQ, HQ, 4K' # @param\n",
        "NEG_PROMPT = 'blurry, low quality, hazy' # @param\n",
        "NUM_STEPS = 50 # @param {type: \"number\"}\n",
        "GUIDANCE = 9 # @param {type: \"number\"}\n",
        "\n",
        "config = {\n",
        "    'prompt': PROMPT,\n",
        "    'neg_prompt': NEG_PROMPT,\n",
        "    'num_steps': NUM_STEPS,\n",
        "    'guidance': GUIDANCE\n",
        "}\n",
        "\n",
        "def load_control_image(path, size=(256, 256)):\n",
        "    \"\"\"\n",
        "    Loads and resizes a control image (e.g., a segmentation map) from the specified path.\n",
        "\n",
        "    Args:\n",
        "        path (str): Path to the control image file.\n",
        "        size (tuple): Desired output size (width, height). Default is (256, 256).\n",
        "\n",
        "    Returns:\n",
        "        PIL.Image: The resized RGB image.\n",
        "    \"\"\"\n",
        "    img = Image.open(path).convert(\"RGB\")\n",
        "    return img.resize(size)\n",
        "\n",
        "@torch.no_grad()\n",
        "def generate_from_path(image_path):\n",
        "    \"\"\"\n",
        "    Loads an image and generates an output image using the ControlNet pipeline.\n",
        "\n",
        "    Args:\n",
        "        image_path (str): Path to the input image.\n",
        "\n",
        "    Returns:\n",
        "        PIL.Image: The generated image based on the input and prompt.\n",
        "    \"\"\"\n",
        "    img = Image.open(image_path).convert(\"RGB\").resize((512, 512))\n",
        "    print(f\"DEBUG: image type={type(img)}, size={img.size}\")\n",
        "\n",
        "    out = pipeline(\n",
        "        prompt=[config[\"prompt\"]],\n",
        "        negative_prompt=[config[\"neg_prompt\"]],\n",
        "        image=img,\n",
        "        control_image=img,\n",
        "        num_inference_steps=config[\"num_steps\"],\n",
        "        guidance_scale=config[\"guidance\"],\n",
        "        output_type=\"pil\"\n",
        "    )\n",
        "\n",
        "    return out.images[0]\n",
        "\n",
        "def display_triplet(input_path, target_path):\n",
        "    \"\"\"\n",
        "    Loads an input image and a corresponding control image (annotation),\n",
        "    generates an output image using a predefined pipeline, and displays\n",
        "    all three side by side.\n",
        "\n",
        "    Args:\n",
        "        input_path (str): Full path to the input image.\n",
        "        target_path (str): Full path to the target/control image.\n",
        "    \"\"\"\n",
        "    input_img = Image.open(input_path).convert(\"RGB\").resize((512, 512))\n",
        "    target_img = Image.open(target_path).convert(\"RGB\").resize((512, 512))\n",
        "\n",
        "    @torch.no_grad()\n",
        "    def gen(img, control):\n",
        "        \"\"\"\n",
        "        Generates an image from input and control using a pipeline.\n",
        "\n",
        "        Args:\n",
        "            img (PIL.Image): Input image.\n",
        "            control (PIL.Image): Control image (e.g., segmentation map).\n",
        "\n",
        "        Returns:\n",
        "            PIL.Image: Generated image.\n",
        "        \"\"\"\n",
        "        return pipeline(\n",
        "            prompt=[config[\"prompt\"]],\n",
        "            negative_prompt=[config[\"neg_prompt\"]],\n",
        "            image=img,\n",
        "            control_image=control,\n",
        "            num_inference_steps=config[\"num_steps\"],\n",
        "            guidance_scale=config[\"guidance\"],\n",
        "            output_type=\"pil\"\n",
        "        ).images[0]\n",
        "\n",
        "    generated_img = gen(input_img, target_img)\n",
        "\n",
        "    fig, axes = plt.subplots(1, 3, figsize=(15, 5), dpi=200)\n",
        "    for ax, im, title in zip(axes,\n",
        "                             [input_img, target_img, generated_img],\n",
        "                             [\"Input\", \"Target\", \"Generated\"]):\n",
        "        ax.imshow(im)\n",
        "        ax.set_title(title)\n",
        "        ax.axis(\"off\")\n",
        "    plt.tight_layout()\n",
        "    plt.show()"
      ],
      "metadata": {
        "cellView": "form",
        "id": "c_c_KpCDRzYj"
      },
      "execution_count": null,
      "outputs": []
    },
    {
      "cell_type": "code",
      "source": [
        "result = generate_from_path(\"/content/60_input.jpg\")\n",
        "# display(result)\n",
        "plt.figure(figsize=(6, 6), dpi=200)\n",
        "plt.imshow(result)\n",
        "plt.axis(\"off\")\n",
        "plt.show()"
      ],
      "metadata": {
        "id": "yXoKPUMUW3Ie"
      },
      "execution_count": null,
      "outputs": []
    },
    {
      "cell_type": "code",
      "source": [
        "display_triplet(\"/content/60_input.jpg\", \"/content/60_annot.jpg\")"
      ],
      "metadata": {
        "id": "Z3eIMqyCW_Zm"
      },
      "execution_count": null,
      "outputs": []
    }
  ]
}